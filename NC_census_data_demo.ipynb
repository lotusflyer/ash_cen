{
 "cells": [
  {
   "cell_type": "markdown",
   "metadata": {},
   "source": [
    "# Demonstration of NC Census Data Access\n",
    "Thanks to Earth Lab https://earthdatascience.org/tutorials/get-cenus-data-with-cenpy/"
   ]
  },
  {
   "cell_type": "code",
   "execution_count": 1,
   "metadata": {},
   "outputs": [],
   "source": [
    "import pandas as pd\n",
    "import cenpy as cen\n",
    "import pysal"
   ]
  },
  {
   "cell_type": "code",
   "execution_count": 2,
   "metadata": {},
   "outputs": [],
   "source": [
    "%matplotlib inline"
   ]
  },
  {
   "cell_type": "code",
   "execution_count": 3,
   "metadata": {},
   "outputs": [
    {
     "data": {
      "text/html": [
       "<div>\n",
       "<style scoped>\n",
       "    .dataframe tbody tr th:only-of-type {\n",
       "        vertical-align: middle;\n",
       "    }\n",
       "\n",
       "    .dataframe tbody tr th {\n",
       "        vertical-align: top;\n",
       "    }\n",
       "\n",
       "    .dataframe thead th {\n",
       "        text-align: right;\n",
       "    }\n",
       "</style>\n",
       "<table border=\"1\" class=\"dataframe\">\n",
       "  <thead>\n",
       "    <tr style=\"text-align: right;\">\n",
       "      <th></th>\n",
       "      <th>0</th>\n",
       "      <th>1</th>\n",
       "    </tr>\n",
       "  </thead>\n",
       "  <tbody>\n",
       "    <tr>\n",
       "      <th>0</th>\n",
       "      <td>ACSSF5Y2010</td>\n",
       "      <td>2006-2010 American Community Survey 5-Year Est...</td>\n",
       "    </tr>\n",
       "    <tr>\n",
       "      <th>1</th>\n",
       "      <td>NONEMP2007</td>\n",
       "      <td>2007 Nonemployer Statistics: Non Employer Stat...</td>\n",
       "    </tr>\n",
       "    <tr>\n",
       "      <th>2</th>\n",
       "      <td>POPESTagesex</td>\n",
       "      <td>Vintage 2014 Population Estimates: National An...</td>\n",
       "    </tr>\n",
       "    <tr>\n",
       "      <th>3</th>\n",
       "      <td>ZBPTotal2011</td>\n",
       "      <td>2011 County Business Patterns - Zip Code Busin...</td>\n",
       "    </tr>\n",
       "    <tr>\n",
       "      <th>4</th>\n",
       "      <td>ITMonthlyImportsUSDA</td>\n",
       "      <td>Time Series International Trade: Monthly U.S. ...</td>\n",
       "    </tr>\n",
       "  </tbody>\n",
       "</table>\n",
       "</div>"
      ],
      "text/plain": [
       "                      0                                                  1\n",
       "0           ACSSF5Y2010  2006-2010 American Community Survey 5-Year Est...\n",
       "1            NONEMP2007  2007 Nonemployer Statistics: Non Employer Stat...\n",
       "2          POPESTagesex  Vintage 2014 Population Estimates: National An...\n",
       "3          ZBPTotal2011  2011 County Business Patterns - Zip Code Busin...\n",
       "4  ITMonthlyImportsUSDA  Time Series International Trade: Monthly U.S. ..."
      ]
     },
     "execution_count": 3,
     "metadata": {},
     "output_type": "execute_result"
    }
   ],
   "source": [
    "datasets = list(cen.explorer.available(verbose=True).items())\n",
    "# print first rows of the dataframe containing datasets\n",
    "pd.DataFrame(datasets).head()"
   ]
  },
  {
   "cell_type": "code",
   "execution_count": 4,
   "metadata": {},
   "outputs": [
    {
     "data": {
      "text/plain": [
       "{'2012 American Community Survey: 1-Year Estimates': \"The American Community Survey (ACS) is a nationwide survey designed to provide communities a fresh look at how they are changing. The ACS replaced the decennial census long form in 2010 and thereafter by collecting long form type information throughout the decade rather than only once every 10 years.  Questionnaires are mailed to a sample of addresses to obtain information about households -- that is, about each person and the housing unit itself.  The American Community Survey produces demographic, social, housing and economic estimates in the form of 1-year, 3-year and 5-year estimates based on population thresholds. The strength of the ACS is in estimating population and housing characteristics. It produces estimates for small areas, including census tracts and population subgroups.  Although the ACS produces population, demographic and housing unit estimates,it is the Census Bureau's Population Estimates Program that produces and disseminates the official estimates of the population for the nation, states, counties, cities and towns, and estimates of housing units for states and counties.  For 2010 and other decennial census years, the Decennial Census provides the official counts of population and housing units.\"}"
      ]
     },
     "execution_count": 4,
     "metadata": {},
     "output_type": "execute_result"
    }
   ],
   "source": [
    "dataset = '2012acs1'\n",
    "cen.explorer.explain(dataset)"
   ]
  },
  {
   "cell_type": "code",
   "execution_count": 5,
   "metadata": {},
   "outputs": [
    {
     "data": {
      "text/plain": [
       "Connection to 2012 American Community Survey: 1-Year Estimates (ID: http://api.census.gov/data/id/2012acs1)"
      ]
     },
     "execution_count": 5,
     "metadata": {},
     "output_type": "execute_result"
    }
   ],
   "source": [
    "con = cen.base.Connection(dataset)\n",
    "con"
   ]
  },
  {
   "cell_type": "markdown",
   "metadata": {},
   "source": [
    "# Acquiring Data\n",
    "## Geographical specification\n",
    "Cenpy uses FIPS codes to specify the geographical extent of the data to be downloaded. The object con is our connection to the api, and the attribute geographies is a dictionary."
   ]
  },
  {
   "cell_type": "code",
   "execution_count": 14,
   "metadata": {},
   "outputs": [
    {
     "name": "stdout",
     "output_type": "stream",
     "text": [
      "<class 'cenpy.remote.APIConnection'>\n",
      "<class 'dict'>\n",
      "dict_keys(['fips'])\n"
     ]
    }
   ],
   "source": [
    "print(type(con))\n",
    "print(type(con.geographies))\n",
    "print(con.geographies.keys())"
   ]
  },
  {
   "cell_type": "code",
   "execution_count": 15,
   "metadata": {},
   "outputs": [
    {
     "data": {
      "text/html": [
       "<div>\n",
       "<style scoped>\n",
       "    .dataframe tbody tr th:only-of-type {\n",
       "        vertical-align: middle;\n",
       "    }\n",
       "\n",
       "    .dataframe tbody tr th {\n",
       "        vertical-align: top;\n",
       "    }\n",
       "\n",
       "    .dataframe thead th {\n",
       "        text-align: right;\n",
       "    }\n",
       "</style>\n",
       "<table border=\"1\" class=\"dataframe\">\n",
       "  <thead>\n",
       "    <tr style=\"text-align: right;\">\n",
       "      <th></th>\n",
       "      <th>geoLevelId</th>\n",
       "      <th>name</th>\n",
       "      <th>optionalWithWCFor</th>\n",
       "      <th>requires</th>\n",
       "      <th>wildcard</th>\n",
       "    </tr>\n",
       "  </thead>\n",
       "  <tbody>\n",
       "    <tr>\n",
       "      <th>0</th>\n",
       "      <td>500</td>\n",
       "      <td>congressional district</td>\n",
       "      <td>state</td>\n",
       "      <td>[state]</td>\n",
       "      <td>[state]</td>\n",
       "    </tr>\n",
       "    <tr>\n",
       "      <th>1</th>\n",
       "      <td>060</td>\n",
       "      <td>county subdivision</td>\n",
       "      <td>NaN</td>\n",
       "      <td>[state, county]</td>\n",
       "      <td>NaN</td>\n",
       "    </tr>\n",
       "    <tr>\n",
       "      <th>2</th>\n",
       "      <td>795</td>\n",
       "      <td>public use microdata area</td>\n",
       "      <td>NaN</td>\n",
       "      <td>[state]</td>\n",
       "      <td>NaN</td>\n",
       "    </tr>\n",
       "    <tr>\n",
       "      <th>3</th>\n",
       "      <td>310</td>\n",
       "      <td>metropolitan statistical area/micropolitan sta...</td>\n",
       "      <td>NaN</td>\n",
       "      <td>NaN</td>\n",
       "      <td>NaN</td>\n",
       "    </tr>\n",
       "    <tr>\n",
       "      <th>4</th>\n",
       "      <td>160</td>\n",
       "      <td>place</td>\n",
       "      <td>state</td>\n",
       "      <td>[state]</td>\n",
       "      <td>[state]</td>\n",
       "    </tr>\n",
       "  </tbody>\n",
       "</table>\n",
       "</div>"
      ],
      "text/plain": [
       "  geoLevelId                                               name  \\\n",
       "0        500                             congressional district   \n",
       "1        060                                 county subdivision   \n",
       "2        795                          public use microdata area   \n",
       "3        310  metropolitan statistical area/micropolitan sta...   \n",
       "4        160                                              place   \n",
       "\n",
       "  optionalWithWCFor         requires wildcard  \n",
       "0             state          [state]  [state]  \n",
       "1               NaN  [state, county]      NaN  \n",
       "2               NaN          [state]      NaN  \n",
       "3               NaN              NaN      NaN  \n",
       "4             state          [state]  [state]  "
      ]
     },
     "execution_count": 15,
     "metadata": {},
     "output_type": "execute_result"
    }
   ],
   "source": [
    "# print head of data frame in the geographies dictionary\n",
    "con.geographies['fips'].head()"
   ]
  },
  {
   "cell_type": "markdown",
   "metadata": {},
   "source": [
    "geo_unit and geo_filter are both necessary arguments for the query() function. geo_unit specifies the scale at which data should be taken. geo_filter then creates a filter to ensure too much data is not downloaded. The following example will download data from all counties in North Carolina (state FIPS codes are accessible here). https://www.mcc.co.mercer.pa.us/dps/state_fips_code_listing.htm"
   ]
  },
  {
   "cell_type": "code",
   "execution_count": 16,
   "metadata": {},
   "outputs": [],
   "source": [
    "g_unit = 'county:*'\n",
    "g_filter = {'state':'37'}"
   ]
  },
  {
   "cell_type": "markdown",
   "metadata": {},
   "source": [
    "## Specifying variables to extract\n",
    "The other argument taken by query() is cols. This is a list of columns taken from the variables of the API. These variables can be displayed using the variables function, however, due to the number of variables it is easier to use the Social Explorer site to find data you are interested in.\n",
    "\n",
    "https://www.socialexplorer.com/"
   ]
  },
  {
   "cell_type": "code",
   "execution_count": 18,
   "metadata": {},
   "outputs": [
    {
     "name": "stdout",
     "output_type": "stream",
     "text": [
      "number of variables in dataset 68401\n"
     ]
    },
    {
     "data": {
      "text/html": [
       "<div>\n",
       "<style scoped>\n",
       "    .dataframe tbody tr th:only-of-type {\n",
       "        vertical-align: middle;\n",
       "    }\n",
       "\n",
       "    .dataframe tbody tr th {\n",
       "        vertical-align: top;\n",
       "    }\n",
       "\n",
       "    .dataframe thead th {\n",
       "        text-align: right;\n",
       "    }\n",
       "</style>\n",
       "<table border=\"1\" class=\"dataframe\">\n",
       "  <thead>\n",
       "    <tr style=\"text-align: right;\">\n",
       "      <th></th>\n",
       "      <th>concept</th>\n",
       "      <th>group</th>\n",
       "      <th>label</th>\n",
       "      <th>limit</th>\n",
       "      <th>predicateOnly</th>\n",
       "      <th>predicateType</th>\n",
       "      <th>validValues</th>\n",
       "    </tr>\n",
       "  </thead>\n",
       "  <tbody>\n",
       "    <tr>\n",
       "      <th>for</th>\n",
       "      <td>Census API Geography Specification</td>\n",
       "      <td>N/A</td>\n",
       "      <td>Census API FIPS 'for' clause</td>\n",
       "      <td>0</td>\n",
       "      <td>True</td>\n",
       "      <td>fips-for</td>\n",
       "      <td>NaN</td>\n",
       "    </tr>\n",
       "    <tr>\n",
       "      <th>in</th>\n",
       "      <td>Census API Geography Specification</td>\n",
       "      <td>N/A</td>\n",
       "      <td>Census API FIPS 'in' clause</td>\n",
       "      <td>0</td>\n",
       "      <td>True</td>\n",
       "      <td>fips-in</td>\n",
       "      <td>NaN</td>\n",
       "    </tr>\n",
       "    <tr>\n",
       "      <th>B20005E_045M</th>\n",
       "      <td>B20005E.  Sex by Work Experience by Earnings f...</td>\n",
       "      <td>N/A</td>\n",
       "      <td>Margin of Error for!!Male:!!Other:!!With earni...</td>\n",
       "      <td>0</td>\n",
       "      <td>NaN</td>\n",
       "      <td>NaN</td>\n",
       "      <td>[]</td>\n",
       "    </tr>\n",
       "    <tr>\n",
       "      <th>B06004HPR_002M</th>\n",
       "      <td>B06004HPR.  Place of Birth (White Alone, Not H...</td>\n",
       "      <td>N/A</td>\n",
       "      <td>Margin of Error for!!Born in Puerto Rico</td>\n",
       "      <td>0</td>\n",
       "      <td>NaN</td>\n",
       "      <td>NaN</td>\n",
       "      <td>[]</td>\n",
       "    </tr>\n",
       "    <tr>\n",
       "      <th>B24126_438E</th>\n",
       "      <td>B24126.  Detailed Occupation for the Full-Time...</td>\n",
       "      <td>N/A</td>\n",
       "      <td>Multiple machine tool setters, operators, and ...</td>\n",
       "      <td>0</td>\n",
       "      <td>NaN</td>\n",
       "      <td>NaN</td>\n",
       "      <td>[]</td>\n",
       "    </tr>\n",
       "  </tbody>\n",
       "</table>\n",
       "</div>"
      ],
      "text/plain": [
       "                                                          concept group  \\\n",
       "for                            Census API Geography Specification   N/A   \n",
       "in                             Census API Geography Specification   N/A   \n",
       "B20005E_045M    B20005E.  Sex by Work Experience by Earnings f...   N/A   \n",
       "B06004HPR_002M  B06004HPR.  Place of Birth (White Alone, Not H...   N/A   \n",
       "B24126_438E     B24126.  Detailed Occupation for the Full-Time...   N/A   \n",
       "\n",
       "                                                            label limit  \\\n",
       "for                                  Census API FIPS 'for' clause     0   \n",
       "in                                    Census API FIPS 'in' clause     0   \n",
       "B20005E_045M    Margin of Error for!!Male:!!Other:!!With earni...     0   \n",
       "B06004HPR_002M           Margin of Error for!!Born in Puerto Rico     0   \n",
       "B24126_438E     Multiple machine tool setters, operators, and ...     0   \n",
       "\n",
       "               predicateOnly predicateType validValues  \n",
       "for                     True      fips-for         NaN  \n",
       "in                      True       fips-in         NaN  \n",
       "B20005E_045M             NaN           NaN          []  \n",
       "B06004HPR_002M           NaN           NaN          []  \n",
       "B24126_438E              NaN           NaN          []  "
      ]
     },
     "execution_count": 18,
     "metadata": {},
     "output_type": "execute_result"
    }
   ],
   "source": [
    "var = con.variables\n",
    "print(\"number of variables in dataset {}\".format(len(var)))\n",
    "con.variables.head()"
   ]
  },
  {
   "cell_type": "markdown",
   "metadata": {},
   "source": [
    "Related columns of data will always start with the same base prefix, so cenpy has an included function, varslike, that will create a list of column names that match the input pattern. It is also useful to add on the NAME and GEOID columns, as these will provide the name and geographic id of all data. \n",
    "\n",
    "table of census columns is here https://beta.dataweb.rm.census.gov/data/2015/acs1/variables.html#B19056_002E"
   ]
  },
  {
   "cell_type": "code",
   "execution_count": 19,
   "metadata": {},
   "outputs": [],
   "source": [
    "cols = ['B19083_001E']\n",
    "cols.extend(['NAME', 'GEOID'])"
   ]
  },
  {
   "cell_type": "markdown",
   "metadata": {},
   "source": [
    "With the three necessary arguments, data can be downloaded and saved as a pandas dataframe."
   ]
  },
  {
   "cell_type": "code",
   "execution_count": 20,
   "metadata": {},
   "outputs": [
    {
     "name": "stderr",
     "output_type": "stream",
     "text": [
      "/Users/georgecollier/.local/share/virtualenvs/ash_cen-uAf2Oe-v/lib/python3.6/site-packages/cenpy/remote.py:172: FutureWarning: convert_objects is deprecated.  To re-infer data dtypes for object columns, use DataFrame.infer_objects()\n",
      "For all other conversions use the data-type specific converters pd.to_datetime, pd.to_timedelta and pd.to_numeric.\n",
      "  df[cols] = df[cols].convert_objects(convert_numeric=convert_numeric)\n"
     ]
    }
   ],
   "source": [
    "data = con.query(cols, geo_unit=g_unit, geo_filter=g_filter)\n",
    "# prints a deprecation warning because of how cenpy calls pandas"
   ]
  },
  {
   "cell_type": "code",
   "execution_count": 22,
   "metadata": {},
   "outputs": [
    {
     "data": {
      "text/html": [
       "<div>\n",
       "<style scoped>\n",
       "    .dataframe tbody tr th:only-of-type {\n",
       "        vertical-align: middle;\n",
       "    }\n",
       "\n",
       "    .dataframe tbody tr th {\n",
       "        vertical-align: top;\n",
       "    }\n",
       "\n",
       "    .dataframe thead th {\n",
       "        text-align: right;\n",
       "    }\n",
       "</style>\n",
       "<table border=\"1\" class=\"dataframe\">\n",
       "  <thead>\n",
       "    <tr style=\"text-align: right;\">\n",
       "      <th></th>\n",
       "      <th>B19083_001E</th>\n",
       "      <th>NAME</th>\n",
       "      <th>GEOID</th>\n",
       "      <th>state</th>\n",
       "      <th>county</th>\n",
       "    </tr>\n",
       "    <tr>\n",
       "      <th>NAME</th>\n",
       "      <th></th>\n",
       "      <th></th>\n",
       "      <th></th>\n",
       "      <th></th>\n",
       "      <th></th>\n",
       "    </tr>\n",
       "  </thead>\n",
       "  <tbody>\n",
       "    <tr>\n",
       "      <th>Alamance County, North Carolina</th>\n",
       "      <td>0.4575</td>\n",
       "      <td>Alamance County, North Carolina</td>\n",
       "      <td>05000US37001</td>\n",
       "      <td>37</td>\n",
       "      <td>001</td>\n",
       "    </tr>\n",
       "    <tr>\n",
       "      <th>Brunswick County, North Carolina</th>\n",
       "      <td>0.4607</td>\n",
       "      <td>Brunswick County, North Carolina</td>\n",
       "      <td>05000US37019</td>\n",
       "      <td>37</td>\n",
       "      <td>019</td>\n",
       "    </tr>\n",
       "    <tr>\n",
       "      <th>Buncombe County, North Carolina</th>\n",
       "      <td>0.4748</td>\n",
       "      <td>Buncombe County, North Carolina</td>\n",
       "      <td>05000US37021</td>\n",
       "      <td>37</td>\n",
       "      <td>021</td>\n",
       "    </tr>\n",
       "    <tr>\n",
       "      <th>Burke County, North Carolina</th>\n",
       "      <td>0.4473</td>\n",
       "      <td>Burke County, North Carolina</td>\n",
       "      <td>05000US37023</td>\n",
       "      <td>37</td>\n",
       "      <td>023</td>\n",
       "    </tr>\n",
       "    <tr>\n",
       "      <th>Cabarrus County, North Carolina</th>\n",
       "      <td>0.4364</td>\n",
       "      <td>Cabarrus County, North Carolina</td>\n",
       "      <td>05000US37025</td>\n",
       "      <td>37</td>\n",
       "      <td>025</td>\n",
       "    </tr>\n",
       "  </tbody>\n",
       "</table>\n",
       "</div>"
      ],
      "text/plain": [
       "                                  B19083_001E  \\\n",
       "NAME                                            \n",
       "Alamance County, North Carolina        0.4575   \n",
       "Brunswick County, North Carolina       0.4607   \n",
       "Buncombe County, North Carolina        0.4748   \n",
       "Burke County, North Carolina           0.4473   \n",
       "Cabarrus County, North Carolina        0.4364   \n",
       "\n",
       "                                                              NAME  \\\n",
       "NAME                                                                 \n",
       "Alamance County, North Carolina    Alamance County, North Carolina   \n",
       "Brunswick County, North Carolina  Brunswick County, North Carolina   \n",
       "Buncombe County, North Carolina    Buncombe County, North Carolina   \n",
       "Burke County, North Carolina          Burke County, North Carolina   \n",
       "Cabarrus County, North Carolina    Cabarrus County, North Carolina   \n",
       "\n",
       "                                         GEOID state county  \n",
       "NAME                                                         \n",
       "Alamance County, North Carolina   05000US37001    37    001  \n",
       "Brunswick County, North Carolina  05000US37019    37    019  \n",
       "Buncombe County, North Carolina   05000US37021    37    021  \n",
       "Burke County, North Carolina      05000US37023    37    023  \n",
       "Cabarrus County, North Carolina   05000US37025    37    025  "
      ]
     },
     "execution_count": 22,
     "metadata": {},
     "output_type": "execute_result"
    }
   ],
   "source": [
    "data.index = data.NAME\n",
    "# print first five rows and last five columns\n",
    "data.iloc[:5]"
   ]
  },
  {
   "cell_type": "code",
   "execution_count": 23,
   "metadata": {},
   "outputs": [],
   "source": [
    "gini_data = data[['NAME', 'B19083_001E']].sort_values('B19083_001E')\n",
    "gini_data.columns\n",
    "gini_data.columns = ['County', 'GINI Index']"
   ]
  },
  {
   "cell_type": "code",
   "execution_count": 24,
   "metadata": {},
   "outputs": [
    {
     "data": {
      "text/plain": [
       "<matplotlib.axes._subplots.AxesSubplot at 0x11e4ac240>"
      ]
     },
     "execution_count": 24,
     "metadata": {},
     "output_type": "execute_result"
    },
    {
     "data": {
      "image/png": "[encoded data removed]",
      "text/plain": [
       "<Figure size 720x720 with 1 Axes>"
      ]
     },
     "metadata": {},
     "output_type": "display_data"
    }
   ],
   "source": [
    "gini_data.plot(kind='barh', figsize=[10,10], title='GINI Index by County')"
   ]
  },
  {
   "cell_type": "code",
   "execution_count": null,
   "metadata": {},
   "outputs": [],
   "source": []
  }
 ],
 "metadata": {
  "kernelspec": {
   "display_name": "Python 3",
   "language": "python",
   "name": "python3"
  },
  "language_info": {
   "codemirror_mode": {
    "name": "ipython",
    "version": 3
   },
   "file_extension": ".py",
   "mimetype": "text/x-python",
   "name": "python",
   "nbconvert_exporter": "python",
   "pygments_lexer": "ipython3",
   "version": "3.6.5"
  }
 },
 "nbformat": 4,
 "nbformat_minor": 2
}
